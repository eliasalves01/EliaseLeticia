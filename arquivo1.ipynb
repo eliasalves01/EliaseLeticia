{
 "cells": [
  {
   "cell_type": "markdown",
   "id": "0d5ec423",
   "metadata": {},
   "source": [
    "# 1. Escolha da Estrutura de Dados para Cadastro de Clientes\n",
    "\n",
    "## A) Alternativa mais adequada para o cenário descrito\n",
    "\n",
    "A alternativa mais adequada para o cenário descrito é o **array ordenado pelo CPF**. Embora o processo de inserção e exclusão de clientes seja mais lento devido à necessidade de manter a ordem no array, a consulta pelo CPF, que é a operação mais frequente no serviço, será muito mais eficiente com um array ordenado. A busca binária, que pode ser aplicada em arrays ordenados, permite encontrar um cliente de forma muito mais rápida (complexidade O(log n)) do que em um array não ordenado (complexidade O(n)).\n",
    "\n",
    "## B) Explicação do impacto na eficiência do serviço\n",
    "\n",
    "Escolher o array ordenado melhora significativamente a eficiência nas consultas, pois a busca binária reduz o tempo para O(log n), enquanto no array não ordenado seria O(n). No entanto, as operações de cadastro e exclusão ficam mais lentas, com complexidade O(n), devido à necessidade de manter a ordem. Contudo, como as consultas são as operações mais frequentes, o ganho nas consultas compensa o custo adicional nas inserções e exclusões.\n",
    "\n",
    "## C) Análise comparativa do desempenho esperado\n",
    "\n",
    "A tabela abaixo compara o desempenho das operações em arrays ordenados e não ordenados:\n",
    "\n",
    "| Operação      | Array Não Ordenado | Array Ordenado |\n",
    "|---------------|---------------------|----------------|\n",
    "| Cadastro      | O(1)                | O(n)           |\n",
    "| Consulta      | O(n)                | O(log n)       |\n",
    "| Exclusão      | O(n)                | O(n)           |\n",
    "\n",
    "Consulta: No array não ordenado, a busca por um cliente é feita de forma \n",
    "sequencial, resultando em complexidade O(n). No array ordenado, a busca binária \n",
    "permite reduzir a complexidade para O(log n), tornando a consulta muito mais \n",
    "eficiente. \n",
    "\n",
    "Exclusão: A exclusão é semelhante nas duas alternativas. No array não ordenado, \n",
    "exige-se a busca do cliente (O(n)) e a movimentação dos elementos subsequentes \n",
    "(O(n)). No array ordenado, a busca é feita com O(log n), mas, para manter a ordem, \n",
    "os elementos subsequentes precisam ser movidos, resultando em O(n). \n",
    "\n",
    "Conclusão: O array ordenado é mais eficiente para consultas devido à busca binária \n",
    "(O(log n)), embora as operações de cadastro e exclusão sejam mais lentas (O(n)). \n",
    "No contexto do serviço, onde as consultas são as mais frequentes, essa escolha \n",
    "oferece um desempenho superior.\n"
   ]
  },
  {
   "cell_type": "markdown",
   "id": "c9938b50",
   "metadata": {},
   "source": [
    "# 2. Busca em Listas Ordenadas e Não Ordenadas de Cores"
   ]
  },
  {
   "cell_type": "markdown",
   "id": "b6774f42",
   "metadata": {},
   "source": [
    "A) Na 1ª função, a busca deve ser realizada pelo nome da cor. Como a \n",
    "lista não está ordenada pelo nome, será necessário implementar um \n",
    "algoritmo de busca linear neste caso"
   ]
  },
  {
   "cell_type": "code",
   "execution_count": 89,
   "id": "be6a8d0b",
   "metadata": {},
   "outputs": [
    {
     "name": "stdout",
     "output_type": "stream",
     "text": [
      "Cor encontrada pelo nome 'azul': {'nome': 'azul', 'r': 0, 'g': 0, 'b': 255}\n"
     ]
    }
   ],
   "source": [
    "def buscar_por_nome(cores, nome):\n",
    "    for cor in cores:\n",
    "        if cor[\"nome\"].lower() == nome.lower():  \n",
    "            return cor\n",
    "    return None  \n",
    "\n",
    "\n",
    "cores = [\n",
    "    {\"nome\": \"preto\", \"r\": 0, \"g\": 0, \"b\": 0},\n",
    "    {\"nome\": \"azul\", \"r\": 0, \"g\": 0, \"b\": 255},\n",
    "    {\"nome\": \"verde\", \"r\": 0, \"g\": 255, \"b\": 0},\n",
    "    {\"nome\": \"roxo\", \"r\": 153, \"g\": 0, \"b\": 255},\n",
    "    {\"nome\": \"vermelho\", \"r\": 255, \"g\": 0, \"b\": 0},\n",
    "    {\"nome\": \"laranja\", \"r\": 255, \"g\": 153, \"b\": 0},\n",
    "    {\"nome\": \"amarelo\", \"r\": 255, \"g\": 255, \"b\": 0},\n",
    "    {\"nome\": \"branco\", \"r\": 255, \"g\": 255, \"b\": 255}\n",
    "]\n",
    "\n",
    "nome_busca = \"azul\"\n",
    "cor_encontrada = buscar_por_nome(cores, nome_busca)\n",
    "print(f\"Cor encontrada pelo nome '{nome_busca}': {cor_encontrada}\")\n"
   ]
  },
  {
   "cell_type": "markdown",
   "id": "5491f171",
   "metadata": {},
   "source": [
    "B : Na 2ª função, a busca deve ser realizada pelo código RGB da cor. Como a lista está ordenada por esta informação, você deve implementar um algoritmo de busca binária para otimizar esta função."
   ]
  },
  {
   "cell_type": "code",
   "execution_count": 90,
   "id": "4d9c8751",
   "metadata": {},
   "outputs": [
    {
     "name": "stdout",
     "output_type": "stream",
     "text": [
      "Cor encontrada pelo RGB (255, 0, 0): {'nome': 'vermelho', 'r': 255, 'g': 0, 'b': 0}\n"
     ]
    }
   ],
   "source": [
    "def buscar_por_rgb(cores, r, g, b):\n",
    "    esquerda, direita = 0, len(cores) - 1\n",
    "    \n",
    "    while esquerda <= direita:\n",
    "        meio = (esquerda + direita) // 2\n",
    "        cor = cores[meio]\n",
    "        \n",
    "        if (cor[\"r\"], cor[\"g\"], cor[\"b\"]) == (r, g, b):\n",
    "            return cor\n",
    "        elif (cor[\"r\"], cor[\"g\"], cor[\"b\"]) < (r, g, b):\n",
    "            esquerda = meio + 1\n",
    "        else:\n",
    "            direita = meio - 1\n",
    "            \n",
    "    return None  \n",
    "\n",
    "cores = [\n",
    "    {\"nome\": \"preto\", \"r\": 0, \"g\": 0, \"b\": 0},\n",
    "    {\"nome\": \"azul\", \"r\": 0, \"g\": 0, \"b\": 255},\n",
    "    {\"nome\": \"verde\", \"r\": 0, \"g\": 255, \"b\": 0},\n",
    "    {\"nome\": \"roxo\", \"r\": 153, \"g\": 0, \"b\": 255},\n",
    "    {\"nome\": \"vermelho\", \"r\": 255, \"g\": 0, \"b\": 0},\n",
    "    {\"nome\": \"laranja\", \"r\": 255, \"g\": 153, \"b\": 0},\n",
    "    {\"nome\": \"amarelo\", \"r\": 255, \"g\": 255, \"b\": 0},\n",
    "    {\"nome\": \"branco\", \"r\": 255, \"g\": 255, \"b\": 255}\n",
    "]\n",
    "\n",
    "rgb_busca = (255, 0, 0)\n",
    "cor_encontrada = buscar_por_rgb(cores, *rgb_busca)\n",
    "print(f\"Cor encontrada pelo RGB {rgb_busca}: {cor_encontrada}\")\n"
   ]
  },
  {
   "cell_type": "markdown",
   "id": "d67151c6",
   "metadata": {},
   "source": [
    "##  3. Ordenação de Registros de Candidatos com Funções Personalizadas  \n"
   ]
  },
  {
   "cell_type": "markdown",
   "id": "981e9440",
   "metadata": {},
   "source": [
    "Uma implementação do algoritmo bubble sort;\n"
   ]
  },
  {
   "cell_type": "code",
   "execution_count": 91,
   "id": "b7bd9ade",
   "metadata": {},
   "outputs": [
    {
     "name": "stdout",
     "output_type": "stream",
     "text": [
      "Bubble Sort - Ordenado por nome: [{'ni': 3, 'nome': 'André', 'idade': 22, 'pontos': 90}, {'ni': 4, 'nome': 'Bruna', 'idade': 38, 'pontos': 95}, {'ni': 1, 'nome': 'José', 'idade': 28, 'pontos': 97}, {'ni': 2, 'nome': 'Márcia', 'idade': 36, 'pontos': 95}]\n"
     ]
    }
   ],
   "source": [
    "def chave_nome(candidato):\n",
    "    return candidato[\"nome\"].lower()\n",
    "\n",
    "def bubble_sort(lista, chave):\n",
    "    n = len(lista)\n",
    "    for i in range(n):\n",
    "        for j in range(0, n-i-1):\n",
    "            if chave(lista[j]) > chave(lista[j+1]):\n",
    "                lista[j], lista[j+1] = lista[j+1], lista[j]\n",
    "\n",
    "candidatos = [\n",
    "    {\"ni\": 1, \"nome\": \"José\", \"idade\": 28, \"pontos\": 97},\n",
    "    {\"ni\": 2, \"nome\": \"Márcia\", \"idade\": 36, \"pontos\": 95},\n",
    "    {\"ni\": 3, \"nome\": \"André\", \"idade\": 22, \"pontos\": 90},\n",
    "    {\"ni\": 4, \"nome\": \"Bruna\", \"idade\": 38, \"pontos\": 95}\n",
    "]\n",
    "bubble_sort(candidatos, chave_nome)\n",
    "print(\"Bubble Sort - Ordenado por nome:\", candidatos)"
   ]
  },
  {
   "cell_type": "markdown",
   "id": "287d6710",
   "metadata": {},
   "source": [
    "Uma implementação do algoritmo selection sort;\n"
   ]
  },
  {
   "cell_type": "code",
   "execution_count": 92,
   "id": "35555814",
   "metadata": {},
   "outputs": [
    {
     "name": "stdout",
     "output_type": "stream",
     "text": [
      "Selection Sort - Ordenado por pontuação e idade: [{'ni': 1, 'nome': 'José', 'idade': 28, 'pontos': 97}, {'ni': 4, 'nome': 'Bruna', 'idade': 38, 'pontos': 95}, {'ni': 2, 'nome': 'Márcia', 'idade': 36, 'pontos': 95}, {'ni': 3, 'nome': 'André', 'idade': 22, 'pontos': 90}]\n"
     ]
    }
   ],
   "source": [
    "def chave_pontuacao_idade(candidato):\n",
    "    return (-candidato[\"pontos\"], -candidato[\"idade\"])\n",
    "\n",
    "def selection_sort(lista, chave):\n",
    "    n = len(lista)\n",
    "    for i in range(n):\n",
    "        menor_indice = i\n",
    "        for j in range(i+1, n):\n",
    "            if chave(lista[j]) < chave(lista[menor_indice]):\n",
    "                menor_indice = j\n",
    "        lista[i], lista[menor_indice] = lista[menor_indice], lista[i]\n",
    "\n",
    "candidatos = [\n",
    "    {\"ni\": 1, \"nome\": \"José\", \"idade\": 28, \"pontos\": 97},\n",
    "    {\"ni\": 2, \"nome\": \"Márcia\", \"idade\": 36, \"pontos\": 95},\n",
    "    {\"ni\": 3, \"nome\": \"André\", \"idade\": 22, \"pontos\": 90},\n",
    "    {\"ni\": 4, \"nome\": \"Bruna\", \"idade\": 38, \"pontos\": 95}\n",
    "]\n",
    "selection_sort(candidatos, chave_pontuacao_idade)\n",
    "print(\"Selection Sort - Ordenado por pontuação e idade:\", candidatos)\n"
   ]
  },
  {
   "cell_type": "markdown",
   "id": "2f01f9a0",
   "metadata": {},
   "source": [
    "Uma implementação do algoritmo insertion sort;\n"
   ]
  },
  {
   "cell_type": "code",
   "execution_count": 93,
   "id": "ddcdd600",
   "metadata": {},
   "outputs": [
    {
     "name": "stdout",
     "output_type": "stream",
     "text": [
      "Insertion Sort - Ordenado por nome: [{'ni': 3, 'nome': 'André', 'idade': 22, 'pontos': 90}, {'ni': 4, 'nome': 'Bruna', 'idade': 38, 'pontos': 95}, {'ni': 1, 'nome': 'José', 'idade': 28, 'pontos': 97}, {'ni': 2, 'nome': 'Márcia', 'idade': 36, 'pontos': 95}]\n"
     ]
    }
   ],
   "source": [
    "def insertion_sort(lista, chave):\n",
    "    for i in range(1, len(lista)):\n",
    "        chave_item = lista[i]\n",
    "        j = i-1\n",
    "        while j >= 0 and chave(lista[j]) > chave(chave_item):\n",
    "            lista[j + 1] = lista[j]\n",
    "            j -= 1\n",
    "        lista[j + 1] = chave_item\n",
    "\n",
    "candidatos = [\n",
    "    {\"ni\": 1, \"nome\": \"José\", \"idade\": 28, \"pontos\": 97},\n",
    "    {\"ni\": 2, \"nome\": \"Márcia\", \"idade\": 36, \"pontos\": 95},\n",
    "    {\"ni\": 3, \"nome\": \"André\", \"idade\": 22, \"pontos\": 90},\n",
    "    {\"ni\": 4, \"nome\": \"Bruna\", \"idade\": 38, \"pontos\": 95}\n",
    "]\n",
    "insertion_sort(candidatos, chave_nome)\n",
    "print(\"Insertion Sort - Ordenado por nome:\", candidatos)\n"
   ]
  },
  {
   "cell_type": "markdown",
   "id": "d1f76d0b",
   "metadata": {},
   "source": [
    "Uma implementação do algoritmo quicksort.\n"
   ]
  },
  {
   "cell_type": "code",
   "execution_count": 94,
   "id": "e4a9303e",
   "metadata": {},
   "outputs": [
    {
     "name": "stdout",
     "output_type": "stream",
     "text": [
      "Quicksort - Ordenado por pontuação e idade: [{'ni': 1, 'nome': 'José', 'idade': 28, 'pontos': 97}, {'ni': 4, 'nome': 'Bruna', 'idade': 38, 'pontos': 95}, {'ni': 2, 'nome': 'Márcia', 'idade': 36, 'pontos': 95}, {'ni': 3, 'nome': 'André', 'idade': 22, 'pontos': 90}]\n"
     ]
    }
   ],
   "source": [
    "def quicksort(lista, chave):\n",
    "    if len(lista) <= 1:\n",
    "        return lista\n",
    "    pivo = lista[0]\n",
    "    menores = [item for item in lista[1:] if chave(item) <= chave(pivo)]\n",
    "    maiores = [item for item in lista[1:] if chave(item) > chave(pivo)]\n",
    "    return quicksort(menores, chave) + [pivo] + quicksort(maiores, chave)\n",
    "\n",
    "candidatos = [\n",
    "    {\"ni\": 1, \"nome\": \"José\", \"idade\": 28, \"pontos\": 97},\n",
    "    {\"ni\": 2, \"nome\": \"Márcia\", \"idade\": 36, \"pontos\": 95},\n",
    "    {\"ni\": 3, \"nome\": \"André\", \"idade\": 22, \"pontos\": 90},\n",
    "    {\"ni\": 4, \"nome\": \"Bruna\", \"idade\": 38, \"pontos\": 95}\n",
    "]\n",
    "candidatos_ordenados = quicksort(candidatos, chave_pontuacao_idade)\n",
    "print(\"Quicksort - Ordenado por pontuação e idade:\", candidatos_ordenados)\n"
   ]
  },
  {
   "cell_type": "markdown",
   "id": "6f9d2be3",
   "metadata": {},
   "source": [
    "## 4 Seleção dos Melhores Candidatos Usando Quickselect"
   ]
  },
  {
   "cell_type": "code",
   "execution_count": 95,
   "id": "028599e3",
   "metadata": {},
   "outputs": [
    {
     "name": "stdout",
     "output_type": "stream",
     "text": [
      "25% Melhores Candidatos: [{'ni': 9, 'nome': 'Maria', 'idade': 34, 'pontos': 97}, {'ni': 1, 'nome': 'José', 'idade': 28, 'pontos': 97}]\n"
     ]
    }
   ],
   "source": [
    "def quickselect(lista, k, chave):\n",
    "    def partition(lista, low, high, chave):\n",
    "        pivot = lista[high]\n",
    "        i = low - 1\n",
    "        for j in range(low, high):\n",
    "            if chave(lista[j]) > chave(pivot):  # Ordenação decrescente\n",
    "                i += 1\n",
    "                lista[i], lista[j] = lista[j], lista[i]\n",
    "        lista[i + 1], lista[high] = lista[high], lista[i + 1]\n",
    "        return i + 1\n",
    "\n",
    "    def quickselect_recursive(lista, low, high, k, chave):\n",
    "        if low <= high:\n",
    "            pi = partition(lista, low, high, chave)\n",
    "            if pi == k:\n",
    "                return lista[:k+1]\n",
    "            elif pi < k:\n",
    "                return quickselect_recursive(lista, pi + 1, high, k, chave)\n",
    "            else:\n",
    "                return quickselect_recursive(lista, low, pi - 1, k, chave)\n",
    "        return []\n",
    "\n",
    "    return quickselect_recursive(lista, 0, len(lista) - 1, k - 1, chave)\n",
    "\n",
    "def chave_candidato(candidato):\n",
    "    return (candidato[\"pontos\"], candidato[\"idade\"], -candidato[\"ni\"])  # critério de ordenação\n",
    "\n",
    "candidatos = [\n",
    "    {\"ni\": 1, \"nome\": \"José\", \"idade\": 28, \"pontos\": 97},\n",
    "    {\"ni\": 2, \"nome\": \"Márcia\", \"idade\": 36, \"pontos\": 95},\n",
    "    {\"ni\": 3, \"nome\": \"André\", \"idade\": 22, \"pontos\": 90},\n",
    "    {\"ni\": 4, \"nome\": \"Bruna\", \"idade\": 38, \"pontos\": 95},\n",
    "    {\"ni\": 5, \"nome\": \"Carlos\", \"idade\": 40, \"pontos\": 85},\n",
    "    {\"ni\": 6, \"nome\": \"Alice\", \"idade\": 29, \"pontos\": 80},\n",
    "    {\"ni\": 7, \"nome\": \"Roberta\", \"idade\": 30, \"pontos\": 88},\n",
    "    {\"ni\": 8, \"nome\": \"Felipe\", \"idade\": 32, \"pontos\": 92},\n",
    "    {\"ni\": 9, \"nome\": \"Maria\", \"idade\": 34, \"pontos\": 97},\n",
    "    {\"ni\": 10, \"nome\": \"Lucas\", \"idade\": 25, \"pontos\": 80}\n",
    "]\n",
    "\n",
    "k = int(len(candidatos) * 0.25)  \n",
    "melhores_candidatos = quickselect(candidatos, k, chave_candidato)\n",
    "\n",
    "print(\"25% Melhores Candidatos:\", melhores_candidatos)\n"
   ]
  },
  {
   "cell_type": "markdown",
   "id": "18d282f8",
   "metadata": {},
   "source": [
    "## 5 Análise de Complexidade dos Algoritmos de Ordenação\n",
    "\n"
   ]
  },
  {
   "cell_type": "markdown",
   "id": "529d18c7",
   "metadata": {},
   "source": [
    "A ) Como a notação Big O é usada para mensurar a eficiência dessas \n",
    "funções? "
   ]
  },
  {
   "cell_type": "markdown",
   "id": "dfd886e3",
   "metadata": {},
   "source": [
    "A notação Big O é usada para mensurar a eficiência de algoritmos mostrando como o tempo de execução ou uso de memória cresce com o aumento da entrada, sendo essencial para comparar soluções. No contexto das funções de ordenação, o Bubble Sort tem complexidade O(n) no melhor caso (lista ordenada) e O(n²) no caso médio e pior; o Selection Sort mantém O(n²) em todos os casos, pois sempre percorre toda a lista; o Insertion Sort tem O(n) no melhor caso (lista quase ordenada) e O(n²) nos demais; já o QuickSort apresenta O(n log n) na média e no melhor caso, sendo muito eficiente para grandes listas, mas pode atingir O(n²) no pior cenário se o pivô for mal escolhido — ainda assim, com técnicas como pivô aleatório ou central, costuma manter a performance próxima de O(n log n), sendo a opção mais eficiente entre as quatro para listas grandes."
   ]
  },
  {
   "cell_type": "markdown",
   "id": "57eae220",
   "metadata": {},
   "source": [
    "B ) Como essa escolha afetaria o desempenho da aplicação? "
   ]
  },
  {
   "cell_type": "markdown",
   "id": "ed1cacdb",
   "metadata": {},
   "source": [
    "A escolha do algoritmo de ordenação impacta significativamente o desempenho de uma aplicação, especialmente quando se lida com grandes volumes de dados. Algoritmos com complexidade O(n²), como o Bubble Sort, Selection Sort e Insertion Sort, tendem a ser ineficientes com listas grandes, pois o tempo de execução cresce rapidamente. Em contrapartida, algoritmos como o QuickSort, que possuem complexidade O(n log n) na maioria dos casos, são muito mais rápidos e escaláveis para listas maiores.\n",
    "\n",
    "Bubble Sort: Muito ineficiente, apenas útil para fins didáticos.\n",
    "\n",
    "Selection Sort: Também pouco eficiente, com número fixo de comparações.\n",
    "\n",
    "Insertion Sort: Pode ser eficiente para listas pequenas ou quase ordenadas.\n",
    "\n",
    "QuickSort: Geralmente é a melhor escolha para grandes volumes de dados, sendo rápido e eficiente.\n",
    "\n",
    "**A minha escolha: Para aplicações reais e grandes volumes de dados, QuickSort é o mais indicado. Se estiver lidando com uma lista pequena ou quase ordenada, o Insertion Sort pode ser uma boa alternativa.**"
   ]
  },
  {
   "cell_type": "markdown",
   "id": "81024d2c",
   "metadata": {},
   "source": [
    "## 6 Análise de Complexidade da Função de Escolha de Currículo\n",
    "\n"
   ]
  },
  {
   "cell_type": "markdown",
   "id": "98a35dda",
   "metadata": {},
   "source": [
    "A função “escolhe_curriculo” recebe uma lista de currículos e vai reduzindo seu tamanho a cada iteração até que reste apenas um currículo. Embora à primeira vista pareça ter complexidade O(log N), pois a lista é cortada pela metade em cada passo, a operação de fatiamento em Python (lista[:metade] ou lista[metade:]) não é constante — ela cria uma nova lista a cada vez, com custo proporcional ao tamanho do pedaço copiado. Isso faz com que, na prática, a complexidade total da função seja O(n), já que o custo acumulado dos fatiamentos em todas as iterações soma-se a uma ordem linear. Assim, apesar da lógica parecer eficiente, o uso de fatiamento afeta o desempenho geral, especialmente em listas muito grandes."
   ]
  },
  {
   "cell_type": "markdown",
   "id": "546b6254",
   "metadata": {},
   "source": [
    "## 7 Otimização da Contagem de Ocorrências em Listas\n",
    "\n"
   ]
  },
  {
   "cell_type": "code",
   "execution_count": 96,
   "id": "556df0f2",
   "metadata": {},
   "outputs": [
    {
     "name": "stdout",
     "output_type": "stream",
     "text": [
      "{'caju': 1, 'banana': 2, 'maçã': 1, 'pera': 2}\n"
     ]
    }
   ],
   "source": [
    "def conta_ocorrencias(lista):\n",
    "    ocorrencias = {}\n",
    "    for item in lista:\n",
    "        if item in ocorrencias:\n",
    "            ocorrencias[item] += 1\n",
    "        else:\n",
    "            ocorrencias[item] = 1\n",
    "    return ocorrencias\n",
    "lista_teste = [\"caju\", \"banana\", \"maçã\", \"pera\", \"banana\", \"pera\"] \n",
    "resultado = conta_ocorrencias(lista_teste)\n",
    "print(resultado)\n"
   ]
  },
  {
   "cell_type": "markdown",
   "id": "a81890ff",
   "metadata": {},
   "source": [
    "## 8 Identificação da Primeira Letra Faltante em uma String\n",
    "\n"
   ]
  },
  {
   "cell_type": "code",
   "execution_count": 97,
   "id": "f3e0163c",
   "metadata": {},
   "outputs": [
    {
     "name": "stdout",
     "output_type": "stream",
     "text": [
      "resultado : b\n"
     ]
    }
   ],
   "source": [
    "def letra_faltante(s): \n",
    "    alfabeto = set('abcdefghijklmnopqrstuvwxyz') \n",
    "    letras_presentes = set(c.lower() for c in s if c.isalpha())   \n",
    "    letras_faltantes = alfabeto - letras_presentes   \n",
    "    return min(letras_faltantes)   \n",
    "texto = \"Olá me chamo Elias e estou aqui!\" \n",
    "resultado = letra_faltante(texto) \n",
    "\n",
    "print(\"resultado :\", resultado)   \n"
   ]
  },
  {
   "cell_type": "markdown",
   "id": "b73bc3f1",
   "metadata": {},
   "source": [
    "## 9 Contagem de Palavras em Arquivos de Texto com Eficiência O(N)\n",
    "\n"
   ]
  },
  {
   "cell_type": "code",
   "execution_count": 98,
   "id": "71aa045f",
   "metadata": {},
   "outputs": [
    {
     "name": "stdout",
     "output_type": "stream",
     "text": [
      "'is': 10\n",
      "'better': 8\n",
      "'than': 8\n",
      "'the': 5\n",
      "'to': 5\n",
      "'although': 3\n",
      "'be': 3\n",
      "'idea': 3\n",
      "'it': 3\n",
      "'never': 3\n",
      "'one': 3\n",
      "'a': 2\n",
      "'complex': 2\n",
      "'do': 2\n",
      "'explain': 2\n",
      "'if': 2\n",
      "'implementation': 2\n",
      "'may': 2\n",
      "'now': 2\n",
      "'obvious': 2\n",
      "'of': 2\n",
      "'s': 2\n",
      "'should': 2\n",
      "'special': 2\n",
      "'unless': 2\n",
      "'way': 2\n",
      "'ambiguity': 1\n",
      "'and': 1\n",
      "'are': 1\n",
      "'aren': 1\n",
      "'at': 1\n",
      "'bad': 1\n",
      "'beats': 1\n",
      "'beautiful': 1\n",
      "'break': 1\n",
      "'cases': 1\n",
      "'complicated': 1\n",
      "'counts': 1\n",
      "'dense': 1\n",
      "'dutch': 1\n",
      "'easy': 1\n",
      "'enough': 1\n",
      "'errors': 1\n",
      "'explicit': 1\n",
      "'explicitly': 1\n",
      "'face': 1\n",
      "'first': 1\n",
      "'flat': 1\n",
      "'good': 1\n",
      "'great': 1\n",
      "'guess': 1\n",
      "'hard': 1\n",
      "'honking': 1\n",
      "'implicit': 1\n",
      "'in': 1\n",
      "'let': 1\n",
      "'more': 1\n",
      "'namespaces': 1\n",
      "'nested': 1\n",
      "'not': 1\n",
      "'often': 1\n",
      "'only': 1\n",
      "'pass': 1\n",
      "'practicality': 1\n",
      "'preferably': 1\n",
      "'purity': 1\n",
      "'re': 1\n",
      "'readability': 1\n",
      "'refuse': 1\n",
      "'right': 1\n",
      "'rules': 1\n",
      "'silenced': 1\n",
      "'silently': 1\n",
      "'simple': 1\n",
      "'sparse': 1\n",
      "'t': 1\n",
      "'temptation': 1\n",
      "'that': 1\n",
      "'there': 1\n",
      "'those': 1\n",
      "'ugly': 1\n",
      "'you': 1\n"
     ]
    }
   ],
   "source": [
    "import re\n",
    "from collections import defaultdict\n",
    "\n",
    "def conta_palavras(arquivo):\n",
    "    contagem = defaultdict(int)\n",
    "\n",
    "    with open(arquivo, 'r', encoding='utf-8') as f:\n",
    "        for linha in f:\n",
    "            palavras = re.findall(r'\\b\\w+\\b', linha.lower())\n",
    "            for palavra in palavras:\n",
    "                contagem[palavra] += 1\n",
    "\n",
    "    for palavra, qtd in sorted(contagem.items(), key=lambda x: (-x[1], x[0])):  # ordenado por frequência desc e alfabética\n",
    "        print(f\"'{palavra}': {qtd}\")\n",
    "\n",
    "caminho_arquivo = 'TextosComExemplos/textoExemploquestao9.txt'  \n",
    "conta_palavras(caminho_arquivo)"
   ]
  },
  {
   "cell_type": "markdown",
   "id": "a7bdbe04",
   "metadata": {},
   "source": [
    "## 10 Implementação de Pilha Usando Lista Encadeada\n",
    "\n"
   ]
  },
  {
   "cell_type": "code",
   "execution_count": 99,
   "id": "9dae5fd8",
   "metadata": {},
   "outputs": [
    {
     "name": "stdout",
     "output_type": "stream",
     "text": [
      "Pilha após inserções: 30 -> 20 -> 10\n",
      "Elemento removido: 30\n",
      "Pilha após remoção: 20 -> 10\n",
      "Topo da pilha: 20\n",
      "Erro: Pilha vazia\n"
     ]
    }
   ],
   "source": [
    "class No:\n",
    "    def __init__(self, valor=None):\n",
    "        self.valor = valor\n",
    "        self.proximo = None\n",
    "\n",
    "class Pilha:\n",
    "    def __init__(self):\n",
    "        self.topo = None\n",
    "    \n",
    "    def esta_vazia(self):\n",
    "        return self.topo is None\n",
    "    \n",
    "    def push(self, valor):\n",
    "        novo_no = No(valor)  \n",
    "        novo_no.proximo = self.topo  \n",
    "        self.topo = novo_no  \n",
    "    \n",
    "    def pop(self):\n",
    "        if self.esta_vazia():\n",
    "            raise IndexError(\"Pilha vazia\")  \n",
    "        valor = self.topo.valor  \n",
    "        self.topo = self.topo.proximo \n",
    "        return valor\n",
    "    \n",
    "    def topo_pilha(self):\n",
    "        if self.esta_vazia():\n",
    "            raise IndexError(\"Pilha vazia\") \n",
    "        return self.topo.valor\n",
    "    \n",
    "    def __str__(self):\n",
    "        valores = []\n",
    "        atual = self.topo\n",
    "        while atual:\n",
    "            valores.append(str(atual.valor))\n",
    "            atual = atual.proximo\n",
    "        return \" -> \".join(valores)\n",
    "\n",
    "if __name__ == \"__main__\":\n",
    "    pilha = Pilha()\n",
    "\n",
    "    pilha.push(10)\n",
    "    pilha.push(20)\n",
    "    pilha.push(30)\n",
    "\n",
    "    print(f\"Pilha após inserções: {pilha}\")\n",
    "\n",
    "    print(f\"Elemento removido: {pilha.pop()}\")\n",
    "    print(f\"Pilha após remoção: {pilha}\")\n",
    "\n",
    "    print(f\"Topo da pilha: {pilha.topo_pilha()}\")\n",
    "\n",
    "    pilha.pop()\n",
    "    pilha.pop()\n",
    "\n",
    "    try:\n",
    "        print(pilha.topo_pilha())\n",
    "    except IndexError as e:\n",
    "        print(f\"Erro: {e}\")\n"
   ]
  },
  {
   "cell_type": "markdown",
   "id": "9b55db63",
   "metadata": {},
   "source": [
    "## 11 Gerenciamento de Fila de Pousos no Aeroporto com Priorização\n"
   ]
  },
  {
   "cell_type": "code",
   "execution_count": 100,
   "id": "8fc21b5e",
   "metadata": {},
   "outputs": [
    {
     "name": "stdout",
     "output_type": "stream",
     "text": [
      "Fila de pouso final:\n",
      "A80 → A20 → A2 → A1 → A40 → A44 → A16 → A26 → A108 → A38 → A23\n",
      "Fila de pouso final:\n",
      "A2 → A8 → A77 → A12 → A33 → A102 → A3 → A21 → A866 → A15 → A9\n"
     ]
    }
   ],
   "source": [
    "from collections import deque\n",
    "\n",
    "def processa_avioes(arquivo):\n",
    "    oeste = deque()\n",
    "    norte = deque()\n",
    "    sul = deque()\n",
    "    leste = deque()\n",
    "\n",
    "    with open(arquivo, 'r', encoding='utf-8') as f:\n",
    "        direcao = \"\"\n",
    "        for linha in f:\n",
    "            linha = linha.strip()\n",
    "            if linha in ['oeste', 'norte', 'sul', 'leste']:\n",
    "                direcao = linha\n",
    "            else:\n",
    "                if direcao == 'oeste':\n",
    "                    oeste.append(linha)\n",
    "                elif direcao == 'norte':\n",
    "                    norte.append(linha)\n",
    "                elif direcao == 'sul':\n",
    "                    sul.append(linha)\n",
    "                elif direcao == 'leste':\n",
    "                    leste.append(linha)\n",
    "\n",
    "    fila_pouso = []\n",
    "\n",
    "    while oeste or norte or sul or leste:\n",
    "        if oeste:\n",
    "            fila_pouso.append(oeste.popleft())\n",
    "        if norte:\n",
    "            fila_pouso.append(norte.popleft())\n",
    "        if sul:\n",
    "            fila_pouso.append(sul.popleft())\n",
    "        if leste:\n",
    "            fila_pouso.append(leste.popleft())\n",
    "\n",
    "    print(\"Fila de pouso final:\")\n",
    "    print(\" → \".join(fila_pouso))\n",
    "\n",
    "\n",
    "# ADICIONEI OS DOIS ARQUIVOS DE ENTRADAS QUE EXISTE NA QUESTÃO\n",
    "caminho_arquivo = 'TextosComExemplos/textoExemploquestao11.txt'  \n",
    "processa_avioes(caminho_arquivo)\n",
    "\n",
    "caminho_arquivo = 'TextosComExemplos/textoExemploquestao11_2.txt' \n",
    "processa_avioes(caminho_arquivo)\n"
   ]
  },
  {
   "cell_type": "markdown",
   "id": "5e48b0c5",
   "metadata": {},
   "source": [
    "## 12 Busca Recursiva por Diretórios com Nome Específico\n",
    "\n"
   ]
  },
  {
   "cell_type": "code",
   "execution_count": 101,
   "id": "dcf4844b",
   "metadata": {},
   "outputs": [
    {
     "name": "stdout",
     "output_type": "stream",
     "text": [
      "\n",
      "Subdiretórios que começam com 'T':\n",
      "\n",
      ".\\TextosComExemplos\n",
      ".\\TextosComExemplos\\Teste2\n"
     ]
    }
   ],
   "source": [
    "import os\n",
    "\n",
    "def listar_subdiretorios(caminho, caractere):\n",
    "    try:\n",
    "        for item in os.listdir(caminho):\n",
    "            item_path = os.path.join(caminho, item)\n",
    "\n",
    "            if os.path.isdir(item_path):\n",
    "                if item.startswith(caractere):\n",
    "                    print(item_path)\n",
    "\n",
    "                listar_subdiretorios(item_path, caractere)\n",
    "    except PermissionError:\n",
    "        pass \n",
    "\n",
    "caractere = input(\"Digite um caractere para buscar diretórios que comecem com ele: \").strip()\n",
    "\n",
    "# Você pode digitar a Palavra \"T\" para fazer o teste!!\n",
    "if len(caractere) != 1:\n",
    "    print(\"Por favor, forneça apenas um caractere.\")\n",
    "else:\n",
    "    print(f\"\\nSubdiretórios que começam com '{caractere}':\\n\")\n",
    "    listar_subdiretorios('.', caractere)\n"
   ]
  },
  {
   "cell_type": "markdown",
   "id": "ab01fbc6",
   "metadata": {},
   "source": [
    "## 13 Multiplicação Recursiva Usando Apenas Soma e Subtração\n",
    "\n"
   ]
  },
  {
   "cell_type": "code",
   "execution_count": 102,
   "id": "01a829af",
   "metadata": {},
   "outputs": [
    {
     "name": "stdout",
     "output_type": "stream",
     "text": [
      "5 * 6 = 30\n"
     ]
    }
   ],
   "source": [
    "def mult(x, y):\n",
    "    if y == 0:\n",
    "        return 0\n",
    "    \n",
    "    if y % 2 == 0:\n",
    "        half = mult(x, y // 2)  \n",
    "        return half + half       \n",
    "\n",
    "    else:\n",
    "        return x + mult(x, y - 1)\n",
    "\n",
    "# Testando a função\n",
    "x = 5\n",
    "y = 6\n",
    "print(f\"{x} * {y} = {mult(x, y)}\")\n"
   ]
  },
  {
   "cell_type": "markdown",
   "id": "ad3c9abb",
   "metadata": {},
   "source": [
    "## 14 Explicação da Implementação Recursiva da Função de Multiplicação\n",
    "\n"
   ]
  },
  {
   "cell_type": "markdown",
   "id": "0f419505",
   "metadata": {},
   "source": [
    "A função \"mult\" resolve o problema da multiplicação sem utilizar diretamente o operador de multiplicação. Ela faz isso por meio de somas repetidas, ou seja, somando o valor de X por Y vezes (ou o contrário). Para otimizar, a função adota uma abordagem recursiva que simula uma divisão ao reduzir Y de forma estratégica, sem utilizar o operador de divisão real, apenas subtrações e verificações de paridade (como Y % 2). Esse processo permite diminuir o número de chamadas recursivas e torna a função mais eficiente do que simplesmente fazer uma soma linear."
   ]
  },
  {
   "cell_type": "markdown",
   "id": "6864f54d",
   "metadata": {},
   "source": [
    "## 15 Análise da Complexidade da Função Recursiva de Tribonacci\n",
    "\n"
   ]
  },
  {
   "cell_type": "markdown",
   "id": "f3e67316",
   "metadata": {},
   "source": [
    "A função tribonacci(n) que foi implementada faz uma série de chamadas \n",
    "recursivas para calcular o n-ésimo termo da sequência de Tribonacci, que é \n",
    "basicamente uma versão mais complexa da sequência de Fibonacci. O \n",
    "problema é que a função recalcula os mesmos valores várias vezes, já que \n",
    "para calcular um valor, ela faz chamadas para os três termos anteriores. \n",
    "Isso acaba fazendo com que o algoritmo cresça de forma exponencial, ou \n",
    "seja, ele faz muitas mais chamadas do que realmente precisa. Como \n",
    "resultado, o tempo de execução aumenta muito rápido conforme  N \n",
    "cresce. \n"
   ]
  },
  {
   "cell_type": "markdown",
   "id": "3b16696d",
   "metadata": {},
   "source": [
    "O principal problema dessa abordagem recursiva é a ineficiência devido à \n",
    "repetição de cálculos. Por exemplo, se você está calculando tribonacci(5), \n",
    "a função vai recalcular tribonacci(3) e tribonacci(4), e cada uma dessas \n",
    "chamadas vai recalcular os termos anteriores. Isso faz o algoritmo ter uma \n",
    "complexidade de tempo de O(3^n), o que é muito ruim para valores \n",
    "maiores de n. Uma maneira de melhorar isso seria usar memorização, \n",
    "onde você armazena os resultados já calculados para evitar refazê-los. "
   ]
  },
  {
   "cell_type": "markdown",
   "id": "25539255",
   "metadata": {},
   "source": [
    "## 16 Implementação Otimizada de Tribonacci Usando Programação Dinâmica\n",
    "\n"
   ]
  },
  {
   "cell_type": "code",
   "execution_count": 103,
   "id": "ddc267f9",
   "metadata": {},
   "outputs": [
    {
     "name": "stdout",
     "output_type": "stream",
     "text": [
      "0\n",
      "1\n",
      "1\n",
      "2\n",
      "4\n",
      "7\n",
      "13\n"
     ]
    }
   ],
   "source": [
    "def tribonacci_memo(n, memo={}): \n",
    "    if n <= 0: \n",
    "        return 0 \n",
    "    if n <= 2: \n",
    "        return 1 \n",
    "    if n not in memo: \n",
    "        memo[n] = tribonacci_memo(n - 1, memo) + tribonacci_memo(n - 2, memo) + tribonacci_memo(n - 3, memo) \n",
    "    return memo[n] \n",
    "print(tribonacci_memo(0))  \n",
    "print(tribonacci_memo(1))  \n",
    "print(tribonacci_memo(2))   \n",
    "print(tribonacci_memo(3))   \n",
    "print(tribonacci_memo(4))   \n",
    "print(tribonacci_memo(5))  \n",
    "print(tribonacci_memo(6))  "
   ]
  },
  {
   "cell_type": "markdown",
   "id": "0c64f55c",
   "metadata": {},
   "source": [
    "## 17 Novos Métodos para Lista Encadeada: Último Elemento e Inversão\n",
    "\n"
   ]
  },
  {
   "cell_type": "code",
   "execution_count": 104,
   "id": "573ef9a0",
   "metadata": {},
   "outputs": [
    {
     "name": "stdout",
     "output_type": "stream",
     "text": [
      "Lista original:\n",
      "A -> B -> C -> None\n",
      "Último elemento: C\n",
      "Lista invertida:\n",
      "C -> B -> A -> None\n"
     ]
    }
   ],
   "source": [
    "class No:\n",
    "    def __init__(self, dado):\n",
    "        self.dado = dado\n",
    "        self.proximo = None\n",
    "\n",
    "class ListaEncadeada:\n",
    "    def __init__(self):\n",
    "        self.cabeca = None\n",
    "\n",
    "    def adicionar(self, dado):\n",
    "        novo_no = No(dado)\n",
    "        if not self.cabeca:\n",
    "            self.cabeca = novo_no\n",
    "        else:\n",
    "            temp = self.cabeca\n",
    "            while temp.proximo:\n",
    "                temp = temp.proximo\n",
    "            temp.proximo = novo_no\n",
    "\n",
    "    def exibir(self):\n",
    "        temp = self.cabeca\n",
    "        while temp:\n",
    "            print(temp.dado, end=\" -> \")\n",
    "            temp = temp.proximo\n",
    "        print(\"None\")\n",
    "\n",
    "    def ultimo(self):\n",
    "        if not self.cabeca:\n",
    "            return None  \n",
    "        temp = self.cabeca\n",
    "        while temp.proximo:\n",
    "            temp = temp.proximo\n",
    "        return temp.dado  \n",
    "\n",
    "    def inverte(self):\n",
    "        prev = None\n",
    "        atual = self.cabeca\n",
    "        while atual:\n",
    "            proximo = atual.proximo\n",
    "            atual.proximo = prev\n",
    "            prev = atual\n",
    "            atual = proximo\n",
    "        self.cabeca = prev \n",
    "\n",
    "lista = ListaEncadeada()\n",
    "lista.adicionar(\"A\")\n",
    "lista.adicionar(\"B\")\n",
    "lista.adicionar(\"C\")\n",
    "\n",
    "print(\"Lista original:\")\n",
    "lista.exibir()\n",
    "\n",
    "print(\"Último elemento:\", lista.ultimo())  \n",
    "\n",
    "lista.inverte()\n",
    "print(\"Lista invertida:\")\n",
    "lista.exibir()  \n"
   ]
  },
  {
   "cell_type": "markdown",
   "id": "54fe5394",
   "metadata": {},
   "source": [
    "## 18 Análise de Complexidade dos Métodos Implementados para Lista Encadeada\n",
    "\n"
   ]
  },
  {
   "cell_type": "markdown",
   "id": "f87a6475",
   "metadata": {},
   "source": [
    "O método ultimo() percorre a lista do início até o último nó para encontrar e \n",
    "retornar o último elemento. Como ele precisa visitar cada nó até chegar ao \n",
    "f\n",
    " inal, sua complexidade é O(N), onde N é o número de elementos na lista. \n",
    "Se a lista for muito grande, esse tempo de execução pode aumentar \n",
    "proporcionalmente, já que ele sempre precisa verificar todos os nós até \n",
    "encontrar o último. "
   ]
  },
  {
   "cell_type": "markdown",
   "id": "699bbbe5",
   "metadata": {},
   "source": [
    "Já o método inverte() percorre a lista uma única vez e altera os ponteiros \n",
    "de cada nó para inverter a ordem dos elementos. Como ele realiza essa \n",
    "operação em apenas um loop linear, sua complexidade também é O(N). \n",
    "Isso significa que, independentemente do tamanho da lista, o tempo de \n",
    "execução cresce de forma proporcional à quantidade de elementos. Essa \n",
    "abordagem garante uma inversão eficiente sem precisar criar uma nova \n",
    "lista ou fazer múltiplas passagens pela estrutura. "
   ]
  },
  {
   "cell_type": "markdown",
   "id": "f4ce8ae4",
   "metadata": {},
   "source": [
    "## 19 Inversão de Lista Duplamente Encadeada\n",
    "\n"
   ]
  },
  {
   "cell_type": "code",
   "execution_count": 105,
   "id": "d851cde7",
   "metadata": {},
   "outputs": [
    {
     "name": "stdout",
     "output_type": "stream",
     "text": [
      "Lista original:\n",
      "1 2 3 4 \n",
      "Lista invertida:\n",
      "4 3 2 1 \n"
     ]
    }
   ],
   "source": [
    "class Nodo:\n",
    "    def __init__(self, valor):\n",
    "        self.valor = valor\n",
    "        self.anterior = None\n",
    "        self.proximo = None\n",
    "\n",
    "class ListaDuplamenteEncadeada:\n",
    "    def __init__(self):\n",
    "        self.cabeca = None\n",
    "        self.cauda = None\n",
    "    \n",
    "    def inserir(self, valor):\n",
    "        novo_nodo = Nodo(valor)\n",
    "        if not self.cabeca:\n",
    "            self.cabeca = self.cauda = novo_nodo\n",
    "        else:\n",
    "            self.cauda.proximo = novo_nodo\n",
    "            novo_nodo.anterior = self.cauda\n",
    "            self.cauda = novo_nodo\n",
    "    \n",
    "    def exibir(self):\n",
    "        atual = self.cabeca\n",
    "        while atual:\n",
    "            print(atual.valor, end=' ')\n",
    "            atual = atual.proximo\n",
    "        print()\n",
    "    \n",
    "    def inverte(self):\n",
    "        atual = self.cabeca\n",
    "        while atual:\n",
    "            atual.anterior, atual.proximo = atual.proximo, atual.anterior\n",
    "            atual = atual.anterior  \n",
    "        \n",
    "        self.cabeca, self.cauda = self.cauda, self.cabeca\n",
    "\n",
    "lista = ListaDuplamenteEncadeada()\n",
    "lista.inserir(1)\n",
    "lista.inserir(2)\n",
    "lista.inserir(3)\n",
    "lista.inserir(4)\n",
    "\n",
    "print(\"Lista original:\")\n",
    "lista.exibir()\n",
    "\n",
    "lista.inverte()\n",
    "\n",
    "print(\"Lista invertida:\")\n",
    "lista.exibir()\n"
   ]
  },
  {
   "cell_type": "markdown",
   "id": "76a9271d",
   "metadata": {},
   "source": [
    "## 20 Árvore Binária de Busca com Critério de Ordenação Personalizado\n",
    "\n"
   ]
  },
  {
   "cell_type": "code",
   "execution_count": 106,
   "id": "272164b0",
   "metadata": {},
   "outputs": [
    {
     "name": "stdout",
     "output_type": "stream",
     "text": [
      "Ordenação por pontuação decrescente:\n",
      "Primeiro colocado: Eduardo (Inscrição: 105, Idade: 35, Pontuação: 92)\n",
      "\n",
      "Ordenação por idade decrescente:\n",
      "Primeiro colocado: Eduardo (Inscrição: 105, Idade: 35, Pontuação: 92)\n",
      "\n",
      "Ordenação por nº de inscrição crescente:\n",
      "Primeiro colocado: Ana (Inscrição: 101, Idade: 25, Pontuação: 85)\n",
      "\n",
      "Após remoção, primeiro colocado na pontuação: Helena (Inscrição: 108, Idade: 31, Pontuação: 91)\n"
     ]
    }
   ],
   "source": [
    "class No:\n",
    "    def __init__(self, dado):\n",
    "        self.dado = dado\n",
    "        self.esquerda = None\n",
    "        self.direita = None\n",
    "\n",
    "class ArvoreBinariaBusca:\n",
    "    def __init__(self, chave):\n",
    "        self.raiz = None\n",
    "        self.chave = chave  \n",
    "\n",
    "    def inserir(self, dado):\n",
    "        def _inserir(raiz, dado):\n",
    "            if raiz is None:\n",
    "                return No(dado)\n",
    "            if self.chave(dado) < self.chave(raiz.dado):\n",
    "                raiz.esquerda = _inserir(raiz.esquerda, dado)\n",
    "            else:\n",
    "                raiz.direita = _inserir(raiz.direita, dado)\n",
    "            return raiz\n",
    "        self.raiz = _inserir(self.raiz, dado)\n",
    "\n",
    "    def remover(self, dado):\n",
    "        def _remover(raiz, dado):\n",
    "            if raiz is None:\n",
    "                return raiz\n",
    "            if self.chave(dado) < self.chave(raiz.dado):\n",
    "                raiz.esquerda = _remover(raiz.esquerda, dado)\n",
    "            elif self.chave(dado) > self.chave(raiz.dado):\n",
    "                raiz.direita = _remover(raiz.direita, dado)\n",
    "            else:\n",
    "                if raiz.esquerda is None:\n",
    "                    return raiz.direita\n",
    "                elif raiz.direita is None:\n",
    "                    return raiz.esquerda\n",
    "                temp = self._menor_valor(raiz.direita)\n",
    "                raiz.dado = temp.dado\n",
    "                raiz.direita = _remover(raiz.direita, temp.dado)\n",
    "            return raiz\n",
    "        self.raiz = _remover(self.raiz, dado)\n",
    "\n",
    "    def _menor_valor(self, no):\n",
    "        atual = no\n",
    "        while atual.esquerda:\n",
    "            atual = atual.esquerda\n",
    "        return atual\n",
    "\n",
    "    def primeiro(self):\n",
    "        atual = self.raiz\n",
    "        while atual and atual.esquerda:\n",
    "            atual = atual.esquerda\n",
    "        return atual.dado if atual else None\n",
    "\n",
    "class Candidato:\n",
    "    def __init__(self, inscricao, nome, idade, pontuacao):\n",
    "        self.inscricao = inscricao\n",
    "        self.nome = nome\n",
    "        self.idade = idade\n",
    "        self.pontuacao = pontuacao\n",
    "    \n",
    "    def __repr__(self):\n",
    "        return f\"{self.nome} (Inscrição: {self.inscricao}, Idade: {self.idade}, Pontuação: {self.pontuacao})\"\n",
    "\n",
    "candidatos = [\n",
    "    Candidato(101, \"Ana\", 25, 85),\n",
    "    Candidato(102, \"Carlos\", 30, 90),\n",
    "    Candidato(103, \"Beatriz\", 22, 88),\n",
    "    Candidato(104, \"Daniel\", 28, 78),\n",
    "    Candidato(105, \"Eduardo\", 35, 92),\n",
    "    Candidato(106, \"Fernanda\", 27, 84),\n",
    "    Candidato(107, \"Gabriel\", 29, 80),\n",
    "    Candidato(108, \"Helena\", 31, 91),\n",
    "    Candidato(109, \"Igor\", 23, 87),\n",
    "    Candidato(110, \"Joana\", 26, 89)\n",
    "]\n",
    "\n",
    "print(\"Ordenação por pontuação decrescente:\")\n",
    "arvore_pontuacao = ArvoreBinariaBusca(lambda c: -c.pontuacao)\n",
    "for c in candidatos:\n",
    "    arvore_pontuacao.inserir(c)\n",
    "print(\"Primeiro colocado:\", arvore_pontuacao.primeiro())\n",
    "\n",
    "print(\"\\nOrdenação por idade decrescente:\")\n",
    "arvore_idade = ArvoreBinariaBusca(lambda c: -c.idade)\n",
    "for c in candidatos:\n",
    "    arvore_idade.inserir(c)\n",
    "print(\"Primeiro colocado:\", arvore_idade.primeiro())\n",
    "\n",
    "print(\"\\nOrdenação por nº de inscrição crescente:\")\n",
    "arvore_inscricao = ArvoreBinariaBusca(lambda c: c.inscricao)\n",
    "for c in candidatos:\n",
    "    arvore_inscricao.inserir(c)\n",
    "print(\"Primeiro colocado:\", arvore_inscricao.primeiro())\n",
    "\n",
    "arvore_pontuacao.remover(candidatos[4])\n",
    "print(\"\\nApós remoção, primeiro colocado na pontuação:\", arvore_pontuacao.primeiro())\n"
   ]
  }
 ],
 "metadata": {
  "kernelspec": {
   "display_name": "Python 3",
   "language": "python",
   "name": "python3"
  },
  "language_info": {
   "codemirror_mode": {
    "name": "ipython",
    "version": 3
   },
   "file_extension": ".py",
   "mimetype": "text/x-python",
   "name": "python",
   "nbconvert_exporter": "python",
   "pygments_lexer": "ipython3",
   "version": "3.11.9"
  }
 },
 "nbformat": 4,
 "nbformat_minor": 5
}
